{
 "cells": [
  {
   "cell_type": "markdown",
   "metadata": {},
   "source": [
    "# Creating work units for CrowdFlower job #733049 using Ben's partially processed data"
   ]
  },
  {
   "cell_type": "markdown",
   "metadata": {},
   "source": [
    "2015-06-01 Tong Shu Li"
   ]
  },
  {
   "cell_type": "markdown",
   "metadata": {},
   "source": [
    "Ben has already processed the 1st SemmedDB gold standard into a format for his CrowdFlower task. In order to keep things consistent, I will be using his data for my job. Of course, since my job will be different from his, I will need to adapt the data to my needs."
   ]
  },
  {
   "cell_type": "code",
   "execution_count": 1,
   "metadata": {
    "collapsed": false
   },
   "outputs": [],
   "source": [
    "import pandas as pd\n",
    "import xml.etree.cElementTree as ET"
   ]
  },
  {
   "cell_type": "markdown",
   "metadata": {},
   "source": [
    "---"
   ]
  },
  {
   "cell_type": "code",
   "execution_count": 2,
   "metadata": {
    "collapsed": true
   },
   "outputs": [],
   "source": [
    "def add_simple_tag(tag_name, tag_class, text):\n",
    "    return \"<{0} class=\\\"{1}\\\">{2}</{0}>\".format(tag_name, tag_class, text)\n",
    "\n",
    "def get_semtype_defn():\n",
    "    return pd.read_csv(\"data/srdef.txt\", sep = '|')"
   ]
  },
  {
   "cell_type": "markdown",
   "metadata": {},
   "source": [
    "### Read the original file:"
   ]
  },
  {
   "cell_type": "code",
   "execution_count": 3,
   "metadata": {
    "collapsed": false
   },
   "outputs": [],
   "source": [
    "tree = ET.parse(\"gold/adjudicated_semmed_gold.xml\")\n",
    "root = tree.getroot()"
   ]
  },
  {
   "cell_type": "markdown",
   "metadata": {},
   "source": [
    "### Read Ben's file:"
   ]
  },
  {
   "cell_type": "code",
   "execution_count": 4,
   "metadata": {
    "collapsed": false
   },
   "outputs": [],
   "source": [
    "res = pd.read_csv(\"gold/dev_gold.tsv\", sep = '\\t')"
   ]
  },
  {
   "cell_type": "code",
   "execution_count": 5,
   "metadata": {
    "collapsed": false
   },
   "outputs": [
    {
     "data": {
      "text/html": [
       "<div style=\"max-height:1000px;max-width:1500px;overflow:auto;\">\n",
       "<table border=\"1\" class=\"dataframe\">\n",
       "  <thead>\n",
       "    <tr style=\"text-align: right;\">\n",
       "      <th></th>\n",
       "      <th>predication_id</th>\n",
       "      <th>indicator_type</th>\n",
       "      <th>predicate_start_index</th>\n",
       "      <th>predicate_end_index</th>\n",
       "      <th>predicate</th>\n",
       "      <th>predicate_definition</th>\n",
       "      <th>subject_start_index</th>\n",
       "      <th>subject_end_index</th>\n",
       "      <th>subject_score</th>\n",
       "      <th>subject_text</th>\n",
       "      <th>...</th>\n",
       "      <th>object_score</th>\n",
       "      <th>object_text</th>\n",
       "      <th>object_pref_name</th>\n",
       "      <th>object_CUI</th>\n",
       "      <th>object_stype_name</th>\n",
       "      <th>object_stype_desc</th>\n",
       "      <th>object_desc</th>\n",
       "      <th>sentence</th>\n",
       "      <th>sentence_html</th>\n",
       "      <th>pmid</th>\n",
       "    </tr>\n",
       "  </thead>\n",
       "  <tbody>\n",
       "    <tr>\n",
       "      <th>0</th>\n",
       "      <td>0</td>\n",
       "      <td>null</td>\n",
       "      <td>41</td>\n",
       "      <td>43</td>\n",
       "      <td>ISA</td>\n",
       "      <td>null</td>\n",
       "      <td>30</td>\n",
       "      <td>40</td>\n",
       "      <td>0</td>\n",
       "      <td>meditation</td>\n",
       "      <td>...</td>\n",
       "      <td>0</td>\n",
       "      <td>intervention</td>\n",
       "      <td>Intervention regimes</td>\n",
       "      <td>C1273869</td>\n",
       "      <td>Health Care Activity</td>\n",
       "      <td>null,</td>\n",
       "      <td>Health Care Activity. null</td>\n",
       "      <td>Findings suggest the value of meditation as an...</td>\n",
       "      <td>&lt;div&gt;Findings suggest the value of &lt;strong&gt;med...</td>\n",
       "      <td>16617173</td>\n",
       "    </tr>\n",
       "    <tr>\n",
       "      <th>1</th>\n",
       "      <td>0</td>\n",
       "      <td>null</td>\n",
       "      <td>29</td>\n",
       "      <td>34</td>\n",
       "      <td>TREATS</td>\n",
       "      <td>null</td>\n",
       "      <td>38</td>\n",
       "      <td>53</td>\n",
       "      <td>0</td>\n",
       "      <td>steroid therapy</td>\n",
       "      <td>...</td>\n",
       "      <td>0</td>\n",
       "      <td>patient</td>\n",
       "      <td>Patients</td>\n",
       "      <td>C0030705</td>\n",
       "      <td>Patient or Disabled Group,Human</td>\n",
       "      <td>null,null,</td>\n",
       "      <td>Individuals participating in the health care s...</td>\n",
       "      <td>One patient was successfully cured by steroid ...</td>\n",
       "      <td>&lt;div&gt;One &lt;strong&gt;patient&lt;/strong&gt; was successf...</td>\n",
       "      <td>16415554</td>\n",
       "    </tr>\n",
       "    <tr>\n",
       "      <th>2</th>\n",
       "      <td>0</td>\n",
       "      <td>null</td>\n",
       "      <td>43</td>\n",
       "      <td>54</td>\n",
       "      <td>COEXISTS_WITH</td>\n",
       "      <td>null</td>\n",
       "      <td>0</td>\n",
       "      <td>28</td>\n",
       "      <td>0</td>\n",
       "      <td>Systemic lupus erythematosus</td>\n",
       "      <td>...</td>\n",
       "      <td>0</td>\n",
       "      <td>gastrointestinal symptoms</td>\n",
       "      <td>Gastrointestinal symptoms NOS</td>\n",
       "      <td>C0426576</td>\n",
       "      <td>Sign or Symptom</td>\n",
       "      <td>null,</td>\n",
       "      <td>Sign or Symptom. null</td>\n",
       "      <td>Systemic lupus erythematosus is frequently acc...</td>\n",
       "      <td>&lt;div&gt;&lt;strong&gt;Systemic lupus erythematosus&lt;/str...</td>\n",
       "      <td>16415554</td>\n",
       "    </tr>\n",
       "    <tr>\n",
       "      <th>3</th>\n",
       "      <td>0</td>\n",
       "      <td>null</td>\n",
       "      <td>0</td>\n",
       "      <td>0</td>\n",
       "      <td>LOCATION_OF</td>\n",
       "      <td>null</td>\n",
       "      <td>89</td>\n",
       "      <td>96</td>\n",
       "      <td>0</td>\n",
       "      <td>colonic</td>\n",
       "      <td>...</td>\n",
       "      <td>0</td>\n",
       "      <td>lesions</td>\n",
       "      <td>Lesion</td>\n",
       "      <td>C0221198</td>\n",
       "      <td>Finding</td>\n",
       "      <td>null,</td>\n",
       "      <td>A localized pathological or traumatic structur...</td>\n",
       "      <td>Systemic lupus erythematosus is frequently acc...</td>\n",
       "      <td>&lt;div&gt;Systemic lupus erythematosus is frequentl...</td>\n",
       "      <td>16415554</td>\n",
       "    </tr>\n",
       "    <tr>\n",
       "      <th>4</th>\n",
       "      <td>0</td>\n",
       "      <td>null</td>\n",
       "      <td>12</td>\n",
       "      <td>14</td>\n",
       "      <td>ISA</td>\n",
       "      <td>null</td>\n",
       "      <td>0</td>\n",
       "      <td>11</td>\n",
       "      <td>0</td>\n",
       "      <td>Fasciolosis</td>\n",
       "      <td>...</td>\n",
       "      <td>0</td>\n",
       "      <td>disease</td>\n",
       "      <td>Disease</td>\n",
       "      <td>C0012634</td>\n",
       "      <td>Disease or Syndrome</td>\n",
       "      <td>null,</td>\n",
       "      <td>top term heading for all specific disorders an...</td>\n",
       "      <td>Fasciolosis is an uncommon disease in this reg...</td>\n",
       "      <td>&lt;div&gt;&lt;strong&gt;Fasciolosis&lt;/strong&gt; is an uncomm...</td>\n",
       "      <td>16024249</td>\n",
       "    </tr>\n",
       "  </tbody>\n",
       "</table>\n",
       "<p>5 rows × 27 columns</p>\n",
       "</div>"
      ],
      "text/plain": [
       "   predication_id indicator_type  predicate_start_index  predicate_end_index  \\\n",
       "0               0           null                     41                   43   \n",
       "1               0           null                     29                   34   \n",
       "2               0           null                     43                   54   \n",
       "3               0           null                      0                    0   \n",
       "4               0           null                     12                   14   \n",
       "\n",
       "       predicate predicate_definition  subject_start_index  subject_end_index  \\\n",
       "0            ISA                 null                   30                 40   \n",
       "1         TREATS                 null                   38                 53   \n",
       "2  COEXISTS_WITH                 null                    0                 28   \n",
       "3    LOCATION_OF                 null                   89                 96   \n",
       "4            ISA                 null                    0                 11   \n",
       "\n",
       "   subject_score                  subject_text    ...    object_score  \\\n",
       "0              0                    meditation    ...               0   \n",
       "1              0               steroid therapy    ...               0   \n",
       "2              0  Systemic lupus erythematosus    ...               0   \n",
       "3              0                       colonic    ...               0   \n",
       "4              0                   Fasciolosis    ...               0   \n",
       "\n",
       "                 object_text               object_pref_name object_CUI  \\\n",
       "0               intervention           Intervention regimes   C1273869   \n",
       "1                    patient                       Patients   C0030705   \n",
       "2  gastrointestinal symptoms  Gastrointestinal symptoms NOS   C0426576   \n",
       "3                    lesions                         Lesion   C0221198   \n",
       "4                    disease                        Disease   C0012634   \n",
       "\n",
       "                 object_stype_name  object_stype_desc  \\\n",
       "0             Health Care Activity              null,   \n",
       "1  Patient or Disabled Group,Human         null,null,   \n",
       "2                  Sign or Symptom              null,   \n",
       "3                          Finding              null,   \n",
       "4              Disease or Syndrome              null,   \n",
       "\n",
       "                                         object_desc  \\\n",
       "0                         Health Care Activity. null   \n",
       "1  Individuals participating in the health care s...   \n",
       "2                              Sign or Symptom. null   \n",
       "3  A localized pathological or traumatic structur...   \n",
       "4  top term heading for all specific disorders an...   \n",
       "\n",
       "                                            sentence  \\\n",
       "0  Findings suggest the value of meditation as an...   \n",
       "1  One patient was successfully cured by steroid ...   \n",
       "2  Systemic lupus erythematosus is frequently acc...   \n",
       "3  Systemic lupus erythematosus is frequently acc...   \n",
       "4  Fasciolosis is an uncommon disease in this reg...   \n",
       "\n",
       "                                       sentence_html      pmid  \n",
       "0  <div>Findings suggest the value of <strong>med...  16617173  \n",
       "1  <div>One <strong>patient</strong> was successf...  16415554  \n",
       "2  <div><strong>Systemic lupus erythematosus</str...  16415554  \n",
       "3  <div>Systemic lupus erythematosus is frequentl...  16415554  \n",
       "4  <div><strong>Fasciolosis</strong> is an uncomm...  16024249  \n",
       "\n",
       "[5 rows x 27 columns]"
      ]
     },
     "execution_count": 5,
     "metadata": {},
     "output_type": "execute_result"
    }
   ],
   "source": [
    "res.head()"
   ]
  },
  {
   "cell_type": "markdown",
   "metadata": {},
   "source": [
    "### Get the definitions for the semantic types:"
   ]
  },
  {
   "cell_type": "code",
   "execution_count": 6,
   "metadata": {
    "collapsed": false
   },
   "outputs": [],
   "source": [
    "semtype_defn = get_semtype_defn()"
   ]
  },
  {
   "cell_type": "code",
   "execution_count": 7,
   "metadata": {
    "collapsed": false
   },
   "outputs": [
    {
     "data": {
      "text/html": [
       "<div style=\"max-height:1000px;max-width:1500px;overflow:auto;\">\n",
       "<table border=\"1\" class=\"dataframe\">\n",
       "  <thead>\n",
       "    <tr style=\"text-align: right;\">\n",
       "      <th></th>\n",
       "      <th>code</th>\n",
       "      <th>name</th>\n",
       "      <th>definition</th>\n",
       "    </tr>\n",
       "  </thead>\n",
       "  <tbody>\n",
       "    <tr>\n",
       "      <th>0</th>\n",
       "      <td>orgm</td>\n",
       "      <td>Organism</td>\n",
       "      <td>Generally, a living individual, including all ...</td>\n",
       "    </tr>\n",
       "    <tr>\n",
       "      <th>1</th>\n",
       "      <td>plnt</td>\n",
       "      <td>Plant</td>\n",
       "      <td>An organism having cellulose cell walls, growi...</td>\n",
       "    </tr>\n",
       "    <tr>\n",
       "      <th>2</th>\n",
       "      <td>fngs</td>\n",
       "      <td>Fungus</td>\n",
       "      <td>A eukaryotic organism characterized by the abs...</td>\n",
       "    </tr>\n",
       "    <tr>\n",
       "      <th>3</th>\n",
       "      <td>virs</td>\n",
       "      <td>Virus</td>\n",
       "      <td>An organism consisting of a core of a single n...</td>\n",
       "    </tr>\n",
       "    <tr>\n",
       "      <th>4</th>\n",
       "      <td>bact</td>\n",
       "      <td>Bacterium</td>\n",
       "      <td>A small, typically one-celled, prokaryotic mic...</td>\n",
       "    </tr>\n",
       "  </tbody>\n",
       "</table>\n",
       "</div>"
      ],
      "text/plain": [
       "   code       name                                         definition\n",
       "0  orgm   Organism  Generally, a living individual, including all ...\n",
       "1  plnt      Plant  An organism having cellulose cell walls, growi...\n",
       "2  fngs     Fungus  A eukaryotic organism characterized by the abs...\n",
       "3  virs      Virus  An organism consisting of a core of a single n...\n",
       "4  bact  Bacterium  A small, typically one-celled, prokaryotic mic..."
      ]
     },
     "execution_count": 7,
     "metadata": {},
     "output_type": "execute_result"
    }
   ],
   "source": [
    "semtype_defn.head()"
   ]
  },
  {
   "cell_type": "code",
   "execution_count": 8,
   "metadata": {
    "collapsed": false
   },
   "outputs": [],
   "source": [
    "def get_defn(semtype):\n",
    "    result = semtype_defn.query(\"name == '{0}'\".format(semtype))\n",
    "    assert not result.empty, semtype\n",
    "    return result.iloc[0][\"definition\"]"
   ]
  },
  {
   "cell_type": "markdown",
   "metadata": {},
   "source": [
    "### For each row of the table, we want to correct the sub/obj semantic types to the \"relation semantic type\""
   ]
  },
  {
   "cell_type": "code",
   "execution_count": 9,
   "metadata": {
    "collapsed": false
   },
   "outputs": [],
   "source": [
    "def find_pmid(pmid):\n",
    "    for node in root.iter(\"MedlineCitation\"):\n",
    "        if node.attrib[\"pmid\"] == str(pmid):\n",
    "            return node\n",
    "        \n",
    "    raise Exception(\"Couldn't find pmid\")\n",
    "        \n",
    "def find_sentence(node, sentence):\n",
    "    for branch in node.iter(\"Sentence\"):\n",
    "        if branch.attrib[\"text\"] == sentence:\n",
    "            return branch\n",
    "        \n",
    "    raise Exception(\"Couldn't find sentence\")\n",
    "\n",
    "def get_semtypes(pmid, sentence, predicate, s_text, o_text, s_off, o_off):\n",
    "    temp = find_pmid(pmid)\n",
    "    node = find_sentence(temp, sentence)\n",
    "    \n",
    "    if predicate.startswith(\"NEG_\"):\n",
    "        predicate = predicate[4:]\n",
    "        \n",
    "    s_off = str(s_off)\n",
    "    o_off = str(o_off)\n",
    "    \n",
    "    def correct_pred(node):\n",
    "        for child in node:\n",
    "            if child.tag == \"Predicate\" and predicate != child.attrib[\"type\"]:\n",
    "                return False\n",
    "            \n",
    "            if child.tag == \"Subject\" and s_text != child.attrib[\"text\"]:\n",
    "                return False\n",
    "            \n",
    "            if child.tag == \"Object\" and o_text != child.attrib[\"text\"]:\n",
    "                return False\n",
    "            \n",
    "        return True\n",
    "    \n",
    "    n_found = 0\n",
    "    semtype = dict()\n",
    "    for pred in node.iter(\"Predication\"):\n",
    "        if correct_pred(pred):\n",
    "            n_found += 1\n",
    "            \n",
    "            for child in pred:\n",
    "                if child.tag != \"Predicate\":\n",
    "                    for c in child:\n",
    "                        if c.tag == \"RelationSemanticType\":\n",
    "                            semtype[child.tag] = c.text\n",
    "            \n",
    "    if n_found > 1:\n",
    "        print \"Found more than one predicate!!!\"\n",
    "        print pmid\n",
    "        print sentence\n",
    "        print s_text\n",
    "        print o_text\n",
    "        print\n",
    "        \n",
    "    return semtype"
   ]
  },
  {
   "cell_type": "code",
   "execution_count": 10,
   "metadata": {
    "collapsed": false,
    "scrolled": true
   },
   "outputs": [
    {
     "name": "stdout",
     "output_type": "stream",
     "text": [
      "Found more than one predicate!!!\n",
      "16332961\n",
      "The main site for ROS production is the respiratory chain inside the mitochondria and accumulation of mtDNA mutations, and impaired respiratory chain function have been associated with degenerative diseases and aging.\n",
      "mitochondria\n",
      "respiratory chain\n",
      "\n",
      "Found more than one predicate!!!\n",
      "16332961\n",
      "The main site for ROS production is the respiratory chain inside the mitochondria and accumulation of mtDNA mutations, and impaired respiratory chain function have been associated with degenerative diseases and aging.\n",
      "mitochondria\n",
      "respiratory chain\n",
      "\n",
      "Found more than one predicate!!!\n",
      "15750284\n",
      "Since mRNAs of both GH and GH receptor were present in stem cells and B-cell precursors in bone marrow, GH may modulate B-lymphoid precursors development in an autocrine or paracrine manner in bone marrows.\n",
      "stem cells\n",
      "mRNAs\n",
      "\n",
      "Found more than one predicate!!!\n",
      "15750284\n",
      "Since mRNAs of both GH and GH receptor were present in stem cells and B-cell precursors in bone marrow, GH may modulate B-lymphoid precursors development in an autocrine or paracrine manner in bone marrows.\n",
      "stem cells\n",
      "mRNAs\n",
      "\n",
      "Found more than one predicate!!!\n",
      "16875036\n",
      "Pregnancies resulting from a spontaneous ovulation and fertilization are extremely rare in women with Turner syndrome.\n",
      "ovulation\n",
      "Pregnancies\n",
      "\n",
      "Found more than one predicate!!!\n",
      "16875036\n",
      "Pregnancies resulting from a spontaneous ovulation and fertilization are extremely rare in women with Turner syndrome.\n",
      "ovulation\n",
      "Pregnancies\n",
      "\n",
      "Found more than one predicate!!!\n",
      "16303761\n",
      "Mast cell/neutrophil cathepsin G and neutrophil elastase generate similar fragments of HGF by cleaving near the chymase site.\n",
      "neutrophil elastase\n",
      "HGF\n",
      "\n",
      "Found more than one predicate!!!\n",
      "16303761\n",
      "Mast cell/neutrophil cathepsin G and neutrophil elastase generate similar fragments of HGF by cleaving near the chymase site.\n",
      "neutrophil elastase\n",
      "HGF\n",
      "\n",
      "Found more than one predicate!!!\n",
      "15990320\n",
      "Polyamines and polyamine toxins are biologically important molecules, having modulatory effects on nucleotides and proteins.\n",
      "Polyamines\n",
      "nucleotides\n",
      "\n",
      "Found more than one predicate!!!\n",
      "15990320\n",
      "Polyamines and polyamine toxins are biologically important molecules, having modulatory effects on nucleotides and proteins.\n",
      "Polyamines\n",
      "proteins\n",
      "\n",
      "Found more than one predicate!!!\n",
      "15990320\n",
      "Polyamines and polyamine toxins are biologically important molecules, having modulatory effects on nucleotides and proteins.\n",
      "Polyamines\n",
      "nucleotides\n",
      "\n",
      "Found more than one predicate!!!\n",
      "15990320\n",
      "Polyamines and polyamine toxins are biologically important molecules, having modulatory effects on nucleotides and proteins.\n",
      "Polyamines\n",
      "proteins\n",
      "\n",
      "Found more than one predicate!!!\n",
      "16194167\n",
      "TTE correlated with TEE grading with an r = 0.42 (P = 0.0001) for patients (n = 75) with adequate TTE and r = 0.32 (P = 0.001) for all patients (n = 100), including those with suboptimal TTE images.\n",
      "TTE\n",
      "patients\n",
      "\n",
      "Found more than one predicate!!!\n",
      "16194167\n",
      "TTE correlated with TEE grading with an r = 0.42 (P = 0.0001) for patients (n = 75) with adequate TTE and r = 0.32 (P = 0.001) for all patients (n = 100), including those with suboptimal TTE images.\n",
      "TTE\n",
      "patients\n",
      "\n",
      "Found more than one predicate!!!\n",
      "16430036\n",
      "58% of the patients had unilateral prostate cancer, 42% bilateral.\n",
      "prostate cancer\n",
      "patients\n",
      "\n",
      "Found more than one predicate!!!\n",
      "16430036\n",
      "58% of the patients had unilateral prostate cancer, 42% bilateral.\n",
      "prostate cancer\n",
      "patients\n",
      "\n"
     ]
    }
   ],
   "source": [
    "for idx, row, in res.iterrows():\n",
    "    semtypes = get_semtypes(row[\"pmid\"], row[\"sentence\"], row[\"predicate\"], row[\"subject_text\"], row[\"object_text\"],\n",
    "                            row[\"subject_start_index\"], row[\"object_start_index\"])\n",
    "    \n",
    "    res.loc[idx, \"subject_stype_name\"] = semtypes[\"Subject\"]\n",
    "    res.loc[idx, \"object_stype_name\"] = semtypes[\"Object\"]\n",
    "    \n",
    "    res.loc[idx, \"subject_stype_desc\"] = get_defn(semtypes[\"Subject\"])\n",
    "    res.loc[idx, \"object_stype_desc\"] = get_defn(semtypes[\"Object\"])"
   ]
  },
  {
   "cell_type": "markdown",
   "metadata": {},
   "source": [
    "### Add a unique identifier for easy reference:"
   ]
  },
  {
   "cell_type": "code",
   "execution_count": 11,
   "metadata": {
    "collapsed": false
   },
   "outputs": [],
   "source": [
    "res[\"uniq_id\"] = pd.Series([\"uniq_id_b{0}\".format(i) for i in range(len(res))])"
   ]
  },
  {
   "cell_type": "markdown",
   "metadata": {},
   "source": [
    "### Format the sentences with HTML tags for easy text highlighting:"
   ]
  },
  {
   "cell_type": "code",
   "execution_count": 12,
   "metadata": {
    "collapsed": false
   },
   "outputs": [],
   "source": [
    "def format_sent(row):\n",
    "    s_text = row[\"subject_text\"]\n",
    "    o_text = row[\"object_text\"]\n",
    "    \n",
    "    s_offset = row[\"subject_start_index\"]\n",
    "    o_offset = row[\"object_start_index\"]\n",
    "    \n",
    "    sentence = row[\"sentence\"]\n",
    "    \n",
    "    if s_offset < o_offset:\n",
    "        return (sentence[:s_offset]\n",
    "                + add_simple_tag(\"span\", \"subject_text\", s_text)\n",
    "                + sentence[s_offset + len(s_text) : o_offset]\n",
    "                + add_simple_tag(\"span\", \"object_text\", o_text)\n",
    "                + sentence[o_offset + len(o_text) :])\n",
    "    \n",
    "    assert s_offset > o_offset\n",
    "    \n",
    "    return (sentence[ : o_offset]\n",
    "            + add_simple_tag(\"span\", \"object_text\", o_text)\n",
    "            + sentence[o_offset + len(o_text) : s_offset]\n",
    "            + add_simple_tag(\"span\", \"subject_text\", s_text)\n",
    "            + sentence[s_offset + len(s_text) :])"
   ]
  },
  {
   "cell_type": "code",
   "execution_count": 13,
   "metadata": {
    "collapsed": false
   },
   "outputs": [],
   "source": [
    "form_sent = []\n",
    "for idx, row in res.iterrows():\n",
    "    ans = format_sent(row)\n",
    "    form_sent.append(ans)\n",
    "    \n",
    "res[\"form_sent\"] = form_sent"
   ]
  },
  {
   "cell_type": "code",
   "execution_count": 14,
   "metadata": {
    "collapsed": false
   },
   "outputs": [],
   "source": [
    "def format_subject(text):\n",
    "    return \"\\\"{0}\\\"\".format(add_simple_tag(\"span\", \"subject_text\", text))\n",
    "\n",
    "def format_object(text):\n",
    "    return \"\\\"{0}\\\"\".format(add_simple_tag(\"span\", \"object_text\", text))"
   ]
  },
  {
   "cell_type": "code",
   "execution_count": 15,
   "metadata": {
    "collapsed": false
   },
   "outputs": [],
   "source": [
    "res[\"form_sub_text\"] = res[\"subject_text\"].map(format_subject)\n",
    "res[\"form_obj_text\"] = res[\"object_text\"].map(format_object)"
   ]
  },
  {
   "cell_type": "code",
   "execution_count": 19,
   "metadata": {
    "collapsed": false
   },
   "outputs": [],
   "source": [
    "res.to_csv(\"data/data_for_cf_job_733049.tsv\", sep = '\\t', index = False)"
   ]
  }
 ],
 "metadata": {
  "kernelspec": {
   "display_name": "Python 2",
   "language": "python",
   "name": "python2"
  },
  "language_info": {
   "codemirror_mode": {
    "name": "ipython",
    "version": 2
   },
   "file_extension": ".py",
   "mimetype": "text/x-python",
   "name": "python",
   "nbconvert_exporter": "python",
   "pygments_lexer": "ipython2",
   "version": "2.7.9"
  }
 },
 "nbformat": 4,
 "nbformat_minor": 0
}
