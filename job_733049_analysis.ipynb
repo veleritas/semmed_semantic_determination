{
 "cells": [
  {
   "cell_type": "markdown",
   "metadata": {},
   "source": [
    "## Analysis of job 733049: can the crowd distinguish the semantic relationship linking two concepts?"
   ]
  },
  {
   "cell_type": "markdown",
   "metadata": {},
   "source": [
    "2015-06-04 Tong Shu Li"
   ]
  },
  {
   "cell_type": "markdown",
   "metadata": {},
   "source": [
    "Let us examine how well the crowd performed on the semantic relationship determination task in CrowdFlower job #733049. As an initial test, 100 rows of data were processed, costing $42 USD. "
   ]
  },
  {
   "cell_type": "code",
   "execution_count": 1,
   "metadata": {
    "collapsed": true
   },
   "outputs": [],
   "source": [
    "from __future__ import division"
   ]
  },
  {
   "cell_type": "code",
   "execution_count": 2,
   "metadata": {
    "collapsed": true
   },
   "outputs": [],
   "source": [
    "from collections import Counter\n",
    "import pandas as pd\n",
    "import pickle\n",
    "import matplotlib as plt\n",
    "import random"
   ]
  },
  {
   "cell_type": "code",
   "execution_count": 3,
   "metadata": {
    "collapsed": true
   },
   "outputs": [],
   "source": [
    "%matplotlib inline"
   ]
  },
  {
   "cell_type": "code",
   "execution_count": 4,
   "metadata": {
    "collapsed": true
   },
   "outputs": [],
   "source": [
    "random.seed(\"2015-06-08:14:14\")"
   ]
  },
  {
   "cell_type": "code",
   "execution_count": 5,
   "metadata": {
    "collapsed": false,
    "scrolled": true
   },
   "outputs": [],
   "source": [
    "from src.filter_data import filter_data\n",
    "from src.aggregate_votes import aggregate_votes"
   ]
  },
  {
   "cell_type": "markdown",
   "metadata": {},
   "source": [
    "### Read the data:"
   ]
  },
  {
   "cell_type": "code",
   "execution_count": 6,
   "metadata": {
    "collapsed": false
   },
   "outputs": [],
   "source": [
    "settings = {\n",
    "    \"loc\": \"./data\",\n",
    "    \"fname\": \"job_733049_full_with_untrusted_and_incomplete.csv\",\n",
    "    \"data_subset\": \"normal\",\n",
    "    \"min_accuracy\": 0.7,\n",
    "    \"max_accuracy\": 1.0\n",
    "}\n",
    "\n",
    "raw_data = filter_data(settings)"
   ]
  },
  {
   "cell_type": "code",
   "execution_count": 7,
   "metadata": {
    "collapsed": false
   },
   "outputs": [
    {
     "data": {
      "text/html": [
       "<div style=\"max-height:1000px;max-width:1500px;overflow:auto;\">\n",
       "<table border=\"1\" class=\"dataframe\">\n",
       "  <thead>\n",
       "    <tr style=\"text-align: right;\">\n",
       "      <th></th>\n",
       "      <th>_unit_id</th>\n",
       "      <th>_created_at</th>\n",
       "      <th>_golden</th>\n",
       "      <th>_id</th>\n",
       "      <th>_missed</th>\n",
       "      <th>_started_at</th>\n",
       "      <th>_tainted</th>\n",
       "      <th>_channel</th>\n",
       "      <th>_trust</th>\n",
       "      <th>_worker_id</th>\n",
       "      <th>...</th>\n",
       "      <th>subject_desc</th>\n",
       "      <th>subject_end_index</th>\n",
       "      <th>subject_pref_name</th>\n",
       "      <th>subject_score</th>\n",
       "      <th>subject_start_index</th>\n",
       "      <th>subject_stype_desc</th>\n",
       "      <th>subject_stype_name</th>\n",
       "      <th>subject_text</th>\n",
       "      <th>uniq_id</th>\n",
       "      <th>user_confidence_gold</th>\n",
       "    </tr>\n",
       "  </thead>\n",
       "  <tbody>\n",
       "    <tr>\n",
       "      <th>1</th>\n",
       "      <td>731283654</td>\n",
       "      <td>6/3/2015 23:01:27</td>\n",
       "      <td>False</td>\n",
       "      <td>1650715675</td>\n",
       "      <td>NaN</td>\n",
       "      <td>6/3/2015 22:59:38</td>\n",
       "      <td>False</td>\n",
       "      <td>neodev</td>\n",
       "      <td>0.8421</td>\n",
       "      <td>33018492</td>\n",
       "      <td>...</td>\n",
       "      <td>Continuous and profound contemplation or musin...</td>\n",
       "      <td>40</td>\n",
       "      <td>Meditation Therapy</td>\n",
       "      <td>0</td>\n",
       "      <td>30</td>\n",
       "      <td>A procedure, method, or technique designed to ...</td>\n",
       "      <td>Therapeutic or Preventive Procedure</td>\n",
       "      <td>meditation</td>\n",
       "      <td>uniq_id_b0</td>\n",
       "      <td>NaN</td>\n",
       "    </tr>\n",
       "    <tr>\n",
       "      <th>4</th>\n",
       "      <td>731283654</td>\n",
       "      <td>6/3/2015 23:07:03</td>\n",
       "      <td>False</td>\n",
       "      <td>1650724185</td>\n",
       "      <td>NaN</td>\n",
       "      <td>6/3/2015 23:03:35</td>\n",
       "      <td>False</td>\n",
       "      <td>clixsense</td>\n",
       "      <td>0.7647</td>\n",
       "      <td>30260697</td>\n",
       "      <td>...</td>\n",
       "      <td>Continuous and profound contemplation or musin...</td>\n",
       "      <td>40</td>\n",
       "      <td>Meditation Therapy</td>\n",
       "      <td>0</td>\n",
       "      <td>30</td>\n",
       "      <td>A procedure, method, or technique designed to ...</td>\n",
       "      <td>Therapeutic or Preventive Procedure</td>\n",
       "      <td>meditation</td>\n",
       "      <td>uniq_id_b0</td>\n",
       "      <td>NaN</td>\n",
       "    </tr>\n",
       "    <tr>\n",
       "      <th>5</th>\n",
       "      <td>731283654</td>\n",
       "      <td>6/3/2015 23:10:09</td>\n",
       "      <td>False</td>\n",
       "      <td>1650728578</td>\n",
       "      <td>NaN</td>\n",
       "      <td>6/3/2015 23:05:25</td>\n",
       "      <td>False</td>\n",
       "      <td>elite</td>\n",
       "      <td>0.7500</td>\n",
       "      <td>29825265</td>\n",
       "      <td>...</td>\n",
       "      <td>Continuous and profound contemplation or musin...</td>\n",
       "      <td>40</td>\n",
       "      <td>Meditation Therapy</td>\n",
       "      <td>0</td>\n",
       "      <td>30</td>\n",
       "      <td>A procedure, method, or technique designed to ...</td>\n",
       "      <td>Therapeutic or Preventive Procedure</td>\n",
       "      <td>meditation</td>\n",
       "      <td>uniq_id_b0</td>\n",
       "      <td>NaN</td>\n",
       "    </tr>\n",
       "    <tr>\n",
       "      <th>6</th>\n",
       "      <td>731283654</td>\n",
       "      <td>6/3/2015 23:16:45</td>\n",
       "      <td>False</td>\n",
       "      <td>1650738417</td>\n",
       "      <td>NaN</td>\n",
       "      <td>6/3/2015 23:12:51</td>\n",
       "      <td>False</td>\n",
       "      <td>prodege</td>\n",
       "      <td>0.8125</td>\n",
       "      <td>9559045</td>\n",
       "      <td>...</td>\n",
       "      <td>Continuous and profound contemplation or musin...</td>\n",
       "      <td>40</td>\n",
       "      <td>Meditation Therapy</td>\n",
       "      <td>0</td>\n",
       "      <td>30</td>\n",
       "      <td>A procedure, method, or technique designed to ...</td>\n",
       "      <td>Therapeutic or Preventive Procedure</td>\n",
       "      <td>meditation</td>\n",
       "      <td>uniq_id_b0</td>\n",
       "      <td>NaN</td>\n",
       "    </tr>\n",
       "    <tr>\n",
       "      <th>9</th>\n",
       "      <td>731283655</td>\n",
       "      <td>6/3/2015 22:59:30</td>\n",
       "      <td>False</td>\n",
       "      <td>1650712700</td>\n",
       "      <td>NaN</td>\n",
       "      <td>6/3/2015 22:55:17</td>\n",
       "      <td>False</td>\n",
       "      <td>clixsense</td>\n",
       "      <td>0.8750</td>\n",
       "      <td>31307491</td>\n",
       "      <td>...</td>\n",
       "      <td>Treatment with corticosteroid drugs to reduce ...</td>\n",
       "      <td>53</td>\n",
       "      <td>Steroid therapy</td>\n",
       "      <td>0</td>\n",
       "      <td>38</td>\n",
       "      <td>A procedure, method, or technique designed to ...</td>\n",
       "      <td>Therapeutic or Preventive Procedure</td>\n",
       "      <td>steroid therapy</td>\n",
       "      <td>uniq_id_b1</td>\n",
       "      <td>NaN</td>\n",
       "    </tr>\n",
       "  </tbody>\n",
       "</table>\n",
       "<p>5 rows × 50 columns</p>\n",
       "</div>"
      ],
      "text/plain": [
       "    _unit_id        _created_at _golden         _id _missed  \\\n",
       "1  731283654  6/3/2015 23:01:27   False  1650715675     NaN   \n",
       "4  731283654  6/3/2015 23:07:03   False  1650724185     NaN   \n",
       "5  731283654  6/3/2015 23:10:09   False  1650728578     NaN   \n",
       "6  731283654  6/3/2015 23:16:45   False  1650738417     NaN   \n",
       "9  731283655  6/3/2015 22:59:30   False  1650712700     NaN   \n",
       "\n",
       "         _started_at _tainted   _channel  _trust  _worker_id  \\\n",
       "1  6/3/2015 22:59:38    False     neodev  0.8421    33018492   \n",
       "4  6/3/2015 23:03:35    False  clixsense  0.7647    30260697   \n",
       "5  6/3/2015 23:05:25    False      elite  0.7500    29825265   \n",
       "6  6/3/2015 23:12:51    False    prodege  0.8125     9559045   \n",
       "9  6/3/2015 22:55:17    False  clixsense  0.8750    31307491   \n",
       "\n",
       "          ...                                                subject_desc  \\\n",
       "1         ...           Continuous and profound contemplation or musin...   \n",
       "4         ...           Continuous and profound contemplation or musin...   \n",
       "5         ...           Continuous and profound contemplation or musin...   \n",
       "6         ...           Continuous and profound contemplation or musin...   \n",
       "9         ...           Treatment with corticosteroid drugs to reduce ...   \n",
       "\n",
       "  subject_end_index   subject_pref_name subject_score subject_start_index  \\\n",
       "1                40  Meditation Therapy             0                  30   \n",
       "4                40  Meditation Therapy             0                  30   \n",
       "5                40  Meditation Therapy             0                  30   \n",
       "6                40  Meditation Therapy             0                  30   \n",
       "9                53     Steroid therapy             0                  38   \n",
       "\n",
       "                                  subject_stype_desc  \\\n",
       "1  A procedure, method, or technique designed to ...   \n",
       "4  A procedure, method, or technique designed to ...   \n",
       "5  A procedure, method, or technique designed to ...   \n",
       "6  A procedure, method, or technique designed to ...   \n",
       "9  A procedure, method, or technique designed to ...   \n",
       "\n",
       "                    subject_stype_name     subject_text     uniq_id  \\\n",
       "1  Therapeutic or Preventive Procedure       meditation  uniq_id_b0   \n",
       "4  Therapeutic or Preventive Procedure       meditation  uniq_id_b0   \n",
       "5  Therapeutic or Preventive Procedure       meditation  uniq_id_b0   \n",
       "6  Therapeutic or Preventive Procedure       meditation  uniq_id_b0   \n",
       "9  Therapeutic or Preventive Procedure  steroid therapy  uniq_id_b1   \n",
       "\n",
       "  user_confidence_gold  \n",
       "1                  NaN  \n",
       "4                  NaN  \n",
       "5                  NaN  \n",
       "6                  NaN  \n",
       "9                  NaN  \n",
       "\n",
       "[5 rows x 50 columns]"
      ]
     },
     "execution_count": 7,
     "metadata": {},
     "output_type": "execute_result"
    }
   ],
   "source": [
    "raw_data.head()"
   ]
  },
  {
   "cell_type": "markdown",
   "metadata": {},
   "source": [
    "### Total number of trusted judgements"
   ]
  },
  {
   "cell_type": "code",
   "execution_count": 8,
   "metadata": {
    "collapsed": false
   },
   "outputs": [
    {
     "data": {
      "text/plain": [
       "419"
      ]
     },
     "execution_count": 8,
     "metadata": {},
     "output_type": "execute_result"
    }
   ],
   "source": [
    "len(raw_data)"
   ]
  },
  {
   "cell_type": "markdown",
   "metadata": {},
   "source": [
    "### There were not very many comments:"
   ]
  },
  {
   "cell_type": "code",
   "execution_count": 9,
   "metadata": {
    "collapsed": false
   },
   "outputs": [
    {
     "data": {
      "text/plain": [
       "array([nan,\n",
       "       'The phrase needs to be \"impaired respiratory chain function\" for any category to fit.'], dtype=object)"
      ]
     },
     "execution_count": 9,
     "metadata": {},
     "output_type": "execute_result"
    }
   ],
   "source": [
    "raw_data[\"comments\"].unique()"
   ]
  },
  {
   "cell_type": "markdown",
   "metadata": {},
   "source": [
    "### Overall the crowd sentiment seems to be evenly distributed:"
   ]
  },
  {
   "cell_type": "code",
   "execution_count": 10,
   "metadata": {
    "collapsed": false
   },
   "outputs": [
    {
     "name": "stdout",
     "output_type": "stream",
     "text": [
      "Choice: confident, # votes: 181, 43.1980906921% of all votes\n",
      "Choice: very_confident, # votes: 147, 35.0835322196% of all votes\n",
      "Choice: not_very_confident, # votes: 91, 21.7183770883% of all votes\n"
     ]
    }
   ],
   "source": [
    "for choice, num in Counter(raw_data[\"user_confidence\"]).most_common():\n",
    "    print \"Choice: {0}, # votes: {1}, {2}% of all votes\".format(\n",
    "        choice, num, num / len(raw_data) * 100)"
   ]
  },
  {
   "cell_type": "markdown",
   "metadata": {},
   "source": [
    "### Accuracy plot of everyone:"
   ]
  },
  {
   "cell_type": "code",
   "execution_count": 11,
   "metadata": {
    "collapsed": false
   },
   "outputs": [],
   "source": [
    "settings = {\n",
    "    \"loc\": \"./data\",\n",
    "    \"fname\": \"job_733049_full_with_untrusted_and_incomplete.csv\",\n",
    "    \"data_subset\": \"all\",\n",
    "    \"min_accuracy\": 0.0,\n",
    "    \"max_accuracy\": 1.0\n",
    "}\n",
    "\n",
    "all_data = filter_data(settings)"
   ]
  },
  {
   "cell_type": "markdown",
   "metadata": {},
   "source": [
    "#### We get a bell curve as expected:"
   ]
  },
  {
   "cell_type": "code",
   "execution_count": 12,
   "metadata": {
    "collapsed": false
   },
   "outputs": [
    {
     "data": {
      "text/plain": [
       "array([[<matplotlib.axes._subplots.AxesSubplot object at 0x7fc80e732950>]], dtype=object)"
      ]
     },
     "execution_count": 12,
     "metadata": {},
     "output_type": "execute_result"
    },
    {
     "data": {
      "image/png": "[encoded data removed]",
      "text/plain": [
       "<matplotlib.figure.Figure at 0x7fc80e6b7110>"
      ]
     },
     "metadata": {},
     "output_type": "display_data"
    }
   ],
   "source": [
    "uniq_users = all_data[\"_worker_id\"].unique()\n",
    "trust = []\n",
    "for user_id in uniq_users:\n",
    "    sub = all_data.query(\"_worker_id == {0}\".format(user_id))\n",
    "    assert len(sub[\"_trust\"].unique()) == 1\n",
    "    trust.append(sub.iloc[0][\"_trust\"])\n",
    "    \n",
    "pd.DataFrame(trust).hist()"
   ]
  },
  {
   "cell_type": "markdown",
   "metadata": {},
   "source": [
    "## Let's plot the accuracy scores of people who passed the test:"
   ]
  },
  {
   "cell_type": "code",
   "execution_count": 13,
   "metadata": {
    "collapsed": true
   },
   "outputs": [],
   "source": [
    "uniq_users = raw_data[\"_worker_id\"].unique()"
   ]
  },
  {
   "cell_type": "code",
   "execution_count": 14,
   "metadata": {
    "collapsed": false
   },
   "outputs": [
    {
     "data": {
      "text/plain": [
       "12"
      ]
     },
     "execution_count": 14,
     "metadata": {},
     "output_type": "execute_result"
    }
   ],
   "source": [
    "len(uniq_users)"
   ]
  },
  {
   "cell_type": "code",
   "execution_count": 15,
   "metadata": {
    "collapsed": false
   },
   "outputs": [],
   "source": [
    "trust = []\n",
    "for user_id in uniq_users:\n",
    "    sub = raw_data.query(\"_worker_id == {0}\".format(user_id))\n",
    "    assert len(sub[\"_trust\"].unique()) == 1\n",
    "    trust.append(sub.iloc[0][\"_trust\"])"
   ]
  },
  {
   "cell_type": "code",
   "execution_count": 16,
   "metadata": {
    "collapsed": false
   },
   "outputs": [
    {
     "data": {
      "text/plain": [
       "array([[<matplotlib.axes._subplots.AxesSubplot object at 0x7fc80e786f10>]], dtype=object)"
      ]
     },
     "execution_count": 16,
     "metadata": {},
     "output_type": "execute_result"
    },
    {
     "data": {
      "image/png": "[encoded data removed]",
      "text/plain": [
       "<matplotlib.figure.Figure at 0x7fc80e6b1990>"
      ]
     },
     "metadata": {},
     "output_type": "display_data"
    }
   ],
   "source": [
    "pd.DataFrame(trust).hist()"
   ]
  },
  {
   "cell_type": "markdown",
   "metadata": {},
   "source": [
    "### Group by unique id, and aggregate the votes:"
   ]
  },
  {
   "cell_type": "markdown",
   "metadata": {},
   "source": [
    "We want to know what the top crowd answer is for each question:"
   ]
  },
  {
   "cell_type": "code",
   "execution_count": 17,
   "metadata": {
    "collapsed": true
   },
   "outputs": [],
   "source": [
    "def aggregate_results(id_column, agg_column, data, match = None):\n",
    "    result = []\n",
    "    for identifier, group in data.groupby(id_column):\n",
    "        ans = aggregate_votes(agg_column, group)\n",
    "\n",
    "        total_vote_score = sum(ans[\"conf_score\"])\n",
    "        percent_agree = ans[\"conf_score\"] / total_vote_score\n",
    "\n",
    "        ans[\"percent_agree\"] = percent_agree\n",
    "        ans.insert(0, id_column, identifier)\n",
    "\n",
    "        if match is not None:\n",
    "            matches = [match(identifier, crowd_choice) for crowd_choice in ans[agg_column]]\n",
    "            ans[\"match\"] = matches\n",
    "\n",
    "        ans = ans.sort([\"conf_score\"], ascending = False)\n",
    "\n",
    "        result.append(ans)\n",
    "\n",
    "    return pd.concat(result)"
   ]
  },
  {
   "cell_type": "code",
   "execution_count": 18,
   "metadata": {
    "collapsed": true
   },
   "outputs": [],
   "source": [
    "res = aggregate_results(\"uniq_id\", \"crowd_relation_type\", raw_data)"
   ]
  },
  {
   "cell_type": "code",
   "execution_count": 19,
   "metadata": {
    "collapsed": false
   },
   "outputs": [
    {
     "data": {
      "text/html": [
       "<div style=\"max-height:1000px;max-width:1500px;overflow:auto;\">\n",
       "<table border=\"1\" class=\"dataframe\">\n",
       "  <thead>\n",
       "    <tr style=\"text-align: right;\">\n",
       "      <th></th>\n",
       "      <th>uniq_id</th>\n",
       "      <th>crowd_relation_type</th>\n",
       "      <th>conf_score</th>\n",
       "      <th>num_votes</th>\n",
       "      <th>conf_skew_score</th>\n",
       "      <th>percent_agree</th>\n",
       "    </tr>\n",
       "  </thead>\n",
       "  <tbody>\n",
       "    <tr>\n",
       "      <th>1</th>\n",
       "      <td>uniq_id_b0</td>\n",
       "      <td>functionally_related</td>\n",
       "      <td>1.5921</td>\n",
       "      <td>2</td>\n",
       "      <td>1</td>\n",
       "      <td>0.502351</td>\n",
       "    </tr>\n",
       "    <tr>\n",
       "      <th>0</th>\n",
       "      <td>uniq_id_b0</td>\n",
       "      <td>conceptually_related</td>\n",
       "      <td>1.5772</td>\n",
       "      <td>2</td>\n",
       "      <td>-1</td>\n",
       "      <td>0.497649</td>\n",
       "    </tr>\n",
       "    <tr>\n",
       "      <th>0</th>\n",
       "      <td>uniq_id_b1</td>\n",
       "      <td>functionally_related</td>\n",
       "      <td>3.3481</td>\n",
       "      <td>4</td>\n",
       "      <td>0</td>\n",
       "      <td>1.000000</td>\n",
       "    </tr>\n",
       "    <tr>\n",
       "      <th>0</th>\n",
       "      <td>uniq_id_b10</td>\n",
       "      <td>spatially_related</td>\n",
       "      <td>2.5879</td>\n",
       "      <td>3</td>\n",
       "      <td>0</td>\n",
       "      <td>1.000000</td>\n",
       "    </tr>\n",
       "    <tr>\n",
       "      <th>1</th>\n",
       "      <td>uniq_id_b100</td>\n",
       "      <td>spatially_related</td>\n",
       "      <td>3.4492</td>\n",
       "      <td>4</td>\n",
       "      <td>0</td>\n",
       "      <td>0.818529</td>\n",
       "    </tr>\n",
       "  </tbody>\n",
       "</table>\n",
       "</div>"
      ],
      "text/plain": [
       "        uniq_id   crowd_relation_type  conf_score  num_votes  conf_skew_score  \\\n",
       "1    uniq_id_b0  functionally_related      1.5921          2                1   \n",
       "0    uniq_id_b0  conceptually_related      1.5772          2               -1   \n",
       "0    uniq_id_b1  functionally_related      3.3481          4                0   \n",
       "0   uniq_id_b10     spatially_related      2.5879          3                0   \n",
       "1  uniq_id_b100     spatially_related      3.4492          4                0   \n",
       "\n",
       "   percent_agree  \n",
       "1       0.502351  \n",
       "0       0.497649  \n",
       "0       1.000000  \n",
       "0       1.000000  \n",
       "1       0.818529  "
      ]
     },
     "execution_count": 19,
     "metadata": {},
     "output_type": "execute_result"
    }
   ],
   "source": [
    "res.head()"
   ]
  },
  {
   "cell_type": "markdown",
   "metadata": {},
   "source": [
    "### Read the mapping for each predicate to its top level relationship type:"
   ]
  },
  {
   "cell_type": "code",
   "execution_count": 20,
   "metadata": {
    "collapsed": false
   },
   "outputs": [],
   "source": [
    "with open(\"./data/ancestor.pickle\", \"rb\") as fin:\n",
    "    ancestor = pickle.load(fin)"
   ]
  },
  {
   "cell_type": "markdown",
   "metadata": {},
   "source": [
    "### Now we can finally judge for each work unit, whether the top voted crowd answer matched that of the gold standard"
   ]
  },
  {
   "cell_type": "code",
   "execution_count": 21,
   "metadata": {
    "collapsed": false,
    "scrolled": true
   },
   "outputs": [],
   "source": [
    "matches = []\n",
    "mismatches = []\n",
    "for uniq_id, group in res.groupby(\"uniq_id\"):\n",
    "    crowd_rel_type = group.iloc[0][\"crowd_relation_type\"]\n",
    "    \n",
    "    sub = raw_data.query(\"uniq_id == '{0}'\".format(uniq_id))\n",
    "    \n",
    "    assert len(sub[\"predicate\"].unique()) == 1\n",
    "    \n",
    "    gold_pred = sub.iloc[0][\"predicate\"].lower()\n",
    "    if gold_pred.startswith(\"neg\"):\n",
    "        gold_pred = gold_pred[4:]\n",
    "\n",
    "    assert not gold_pred.startswith(\"neg\")\n",
    "    \n",
    "    assert gold_pred in ancestor\n",
    "    assert gold_pred != 'associated_with'\n",
    "    \n",
    "    # now we can check if the work units matched:\n",
    "    if crowd_rel_type + \"_to\" == ancestor[gold_pred]:\n",
    "        matches.append(uniq_id)\n",
    "    else:\n",
    "        mismatches.append(uniq_id)\n"
   ]
  },
  {
   "cell_type": "markdown",
   "metadata": {},
   "source": [
    "## Results:"
   ]
  },
  {
   "cell_type": "code",
   "execution_count": 22,
   "metadata": {
    "collapsed": false,
    "scrolled": true
   },
   "outputs": [
    {
     "data": {
      "text/plain": [
       "83"
      ]
     },
     "execution_count": 22,
     "metadata": {},
     "output_type": "execute_result"
    }
   ],
   "source": [
    "len(matches)"
   ]
  },
  {
   "cell_type": "code",
   "execution_count": 23,
   "metadata": {
    "collapsed": false
   },
   "outputs": [
    {
     "data": {
      "text/plain": [
       "17"
      ]
     },
     "execution_count": 23,
     "metadata": {},
     "output_type": "execute_result"
    }
   ],
   "source": [
    "len(mismatches)"
   ]
  },
  {
   "cell_type": "code",
   "execution_count": 24,
   "metadata": {
    "collapsed": false,
    "scrolled": true
   },
   "outputs": [
    {
     "data": {
      "text/plain": [
       "['uniq_id_b1',\n",
       " 'uniq_id_b10',\n",
       " 'uniq_id_b100',\n",
       " 'uniq_id_b101',\n",
       " 'uniq_id_b102',\n",
       " 'uniq_id_b103',\n",
       " 'uniq_id_b104',\n",
       " 'uniq_id_b106',\n",
       " 'uniq_id_b107',\n",
       " 'uniq_id_b11',\n",
       " 'uniq_id_b13',\n",
       " 'uniq_id_b14',\n",
       " 'uniq_id_b15',\n",
       " 'uniq_id_b16',\n",
       " 'uniq_id_b17',\n",
       " 'uniq_id_b18',\n",
       " 'uniq_id_b2',\n",
       " 'uniq_id_b20',\n",
       " 'uniq_id_b21',\n",
       " 'uniq_id_b24',\n",
       " 'uniq_id_b25',\n",
       " 'uniq_id_b27',\n",
       " 'uniq_id_b3',\n",
       " 'uniq_id_b31',\n",
       " 'uniq_id_b32',\n",
       " 'uniq_id_b34',\n",
       " 'uniq_id_b35',\n",
       " 'uniq_id_b36',\n",
       " 'uniq_id_b37',\n",
       " 'uniq_id_b38',\n",
       " 'uniq_id_b39',\n",
       " 'uniq_id_b41',\n",
       " 'uniq_id_b42',\n",
       " 'uniq_id_b43',\n",
       " 'uniq_id_b44',\n",
       " 'uniq_id_b45',\n",
       " 'uniq_id_b46',\n",
       " 'uniq_id_b47',\n",
       " 'uniq_id_b48',\n",
       " 'uniq_id_b49',\n",
       " 'uniq_id_b5',\n",
       " 'uniq_id_b50',\n",
       " 'uniq_id_b52',\n",
       " 'uniq_id_b53',\n",
       " 'uniq_id_b54',\n",
       " 'uniq_id_b56',\n",
       " 'uniq_id_b57',\n",
       " 'uniq_id_b59',\n",
       " 'uniq_id_b6',\n",
       " 'uniq_id_b60',\n",
       " 'uniq_id_b62',\n",
       " 'uniq_id_b63',\n",
       " 'uniq_id_b64',\n",
       " 'uniq_id_b65',\n",
       " 'uniq_id_b66',\n",
       " 'uniq_id_b67',\n",
       " 'uniq_id_b70',\n",
       " 'uniq_id_b71',\n",
       " 'uniq_id_b72',\n",
       " 'uniq_id_b73',\n",
       " 'uniq_id_b74',\n",
       " 'uniq_id_b75',\n",
       " 'uniq_id_b77',\n",
       " 'uniq_id_b78',\n",
       " 'uniq_id_b79',\n",
       " 'uniq_id_b8',\n",
       " 'uniq_id_b80',\n",
       " 'uniq_id_b82',\n",
       " 'uniq_id_b83',\n",
       " 'uniq_id_b84',\n",
       " 'uniq_id_b85',\n",
       " 'uniq_id_b87',\n",
       " 'uniq_id_b88',\n",
       " 'uniq_id_b89',\n",
       " 'uniq_id_b9',\n",
       " 'uniq_id_b90',\n",
       " 'uniq_id_b91',\n",
       " 'uniq_id_b92',\n",
       " 'uniq_id_b93',\n",
       " 'uniq_id_b94',\n",
       " 'uniq_id_b96',\n",
       " 'uniq_id_b98',\n",
       " 'uniq_id_b99']"
      ]
     },
     "execution_count": 24,
     "metadata": {},
     "output_type": "execute_result"
    }
   ],
   "source": [
    "matches"
   ]
  },
  {
   "cell_type": "code",
   "execution_count": 25,
   "metadata": {
    "collapsed": false,
    "scrolled": true
   },
   "outputs": [
    {
     "data": {
      "text/plain": [
       "['uniq_id_b0',\n",
       " 'uniq_id_b12',\n",
       " 'uniq_id_b19',\n",
       " 'uniq_id_b22',\n",
       " 'uniq_id_b23',\n",
       " 'uniq_id_b26',\n",
       " 'uniq_id_b28',\n",
       " 'uniq_id_b29',\n",
       " 'uniq_id_b33',\n",
       " 'uniq_id_b55',\n",
       " 'uniq_id_b58',\n",
       " 'uniq_id_b61',\n",
       " 'uniq_id_b68',\n",
       " 'uniq_id_b69',\n",
       " 'uniq_id_b7',\n",
       " 'uniq_id_b86',\n",
       " 'uniq_id_b97']"
      ]
     },
     "execution_count": 25,
     "metadata": {},
     "output_type": "execute_result"
    }
   ],
   "source": [
    "mismatches"
   ]
  },
  {
   "cell_type": "markdown",
   "metadata": {},
   "source": [
    "## Checking our work: did the crowd really get things right 83% of the time?"
   ]
  },
  {
   "cell_type": "markdown",
   "metadata": {},
   "source": [
    "### How confident was the crowd for the questions that matched the gold standard?"
   ]
  },
  {
   "cell_type": "code",
   "execution_count": 26,
   "metadata": {
    "collapsed": false
   },
   "outputs": [
    {
     "data": {
      "text/plain": [
       "array([[<matplotlib.axes._subplots.AxesSubplot object at 0x7fc80e58e950>]], dtype=object)"
      ]
     },
     "execution_count": 26,
     "metadata": {},
     "output_type": "execute_result"
    },
    {
     "data": {
      "image/png": "[encoded data removed]",
      "text/plain": [
       "<matplotlib.figure.Figure at 0x7fc80e4f52d0>"
      ]
     },
     "metadata": {},
     "output_type": "display_data"
    }
   ],
   "source": [
    "temp = []\n",
    "for uniq_id in matches:\n",
    "    data = res.query(\"uniq_id == '{0}'\".format(uniq_id))\n",
    "    temp.append(data.iloc[0][\"conf_skew_score\"])\n",
    "    \n",
    "pd.DataFrame(temp).hist()"
   ]
  },
  {
   "cell_type": "markdown",
   "metadata": {},
   "source": [
    "### And the ones where they did not match the gold standard:"
   ]
  },
  {
   "cell_type": "code",
   "execution_count": 27,
   "metadata": {
    "collapsed": false
   },
   "outputs": [
    {
     "data": {
      "text/plain": [
       "array([[<matplotlib.axes._subplots.AxesSubplot object at 0x7fc80e377b90>]], dtype=object)"
      ]
     },
     "execution_count": 27,
     "metadata": {},
     "output_type": "execute_result"
    },
    {
     "data": {
      "image/png": "[encoded data removed]",
      "text/plain": [
       "<matplotlib.figure.Figure at 0x7fc80e4352d0>"
      ]
     },
     "metadata": {},
     "output_type": "display_data"
    }
   ],
   "source": [
    "temp = []\n",
    "for uniq_id in mismatches:\n",
    "    data = res.query(\"uniq_id == '{0}'\".format(uniq_id))\n",
    "    temp.append(data.iloc[0][\"conf_skew_score\"])\n",
    "    \n",
    "pd.DataFrame(temp).hist()"
   ]
  },
  {
   "cell_type": "markdown",
   "metadata": {},
   "source": [
    "It looks like the crowd is overall less confident in their top choice when they do not match the gold standard."
   ]
  },
  {
   "cell_type": "markdown",
   "metadata": {},
   "source": [
    "## Let's examine each work unit individually:"
   ]
  },
  {
   "cell_type": "code",
   "execution_count": 28,
   "metadata": {
    "collapsed": true
   },
   "outputs": [],
   "source": [
    "def summary(work_units):\n",
    "    for uniq_id in work_units:\n",
    "        data = res.query(\"uniq_id == '{0}'\".format(uniq_id))\n",
    "        sub = raw_data.query(\"uniq_id == '{0}'\".format(uniq_id))\n",
    "\n",
    "        print \"Unique id: {0}\".format(uniq_id)\n",
    "        print \"Work id: {0}\".format(sub.iloc[0][\"_unit_id\"])\n",
    "        print\n",
    "\n",
    "        print \"Gold: [{0}] {1} [{2}]\".format(sub.iloc[0][\"subject_pref_name\"],\n",
    "                                  sub.iloc[0][\"predicate\"],\n",
    "                                  sub.iloc[0][\"object_pref_name\"])\n",
    "\n",
    "        print\n",
    "\n",
    "        gold = sub.iloc[0][\"predicate\"].lower()\n",
    "        if gold.startswith(\"neg\"):\n",
    "            gold = gold[4:]\n",
    "\n",
    "        print \"{0}: {1}\".format(gold, ancestor[gold])\n",
    "\n",
    "        print\n",
    "        print data\n",
    "        print\n",
    "\n",
    "        sentence = sub.iloc[0][\"form_sent\"]\n",
    "        print sentence\n",
    "\n",
    "        print \"---------------------------------------------------------\"\n",
    "        print"
   ]
  },
  {
   "cell_type": "code",
   "execution_count": 29,
   "metadata": {
    "collapsed": false,
    "scrolled": true
   },
   "outputs": [
    {
     "name": "stdout",
     "output_type": "stream",
     "text": [
      "Unique id: uniq_id_b0\n",
      "Work id: 731283654\n",
      "\n",
      "Gold: [Meditation Therapy] ISA [Intervention regimes]\n",
      "\n",
      "isa: conceptually_related_to\n",
      "\n",
      "      uniq_id   crowd_relation_type  conf_score  num_votes  conf_skew_score  \\\n",
      "1  uniq_id_b0  functionally_related      1.5921          2                1   \n",
      "0  uniq_id_b0  conceptually_related      1.5772          2               -1   \n",
      "\n",
      "   percent_agree  \n",
      "1       0.502351  \n",
      "0       0.497649  \n",
      "\n",
      "Findings suggest the value of <span class=\"subject_text\">meditation</span> as an <span class=\"object_text\">intervention</span> strategy with survivors and demonstrate the need for further research in this area.\n",
      "---------------------------------------------------------\n",
      "\n",
      "Unique id: uniq_id_b12\n",
      "Work id: 731283666\n",
      "\n",
      "Gold: [MASS PALPABLE] PROCESS_OF [Patients]\n",
      "\n",
      "process_of: functionally_related_to\n",
      "\n",
      "       uniq_id   crowd_relation_type  conf_score  num_votes  conf_skew_score  \\\n",
      "2  uniq_id_b12    physically_related      1.7981          2                0   \n",
      "1  uniq_id_b12  functionally_related      0.8125          1                0   \n",
      "0  uniq_id_b12  conceptually_related      0.7647          1               -1   \n",
      "\n",
      "   percent_agree  \n",
      "2       0.532723  \n",
      "1       0.240719  \n",
      "0       0.226558  \n",
      "\n",
      "On the other hand, 17 <span class=\"object_text\">patients</span> with benign histology had tumors greater than 3 cm, and an additional 18 had <span class=\"subject_text\">palpable masses</span> on physical examination.\n",
      "---------------------------------------------------------\n",
      "\n",
      "Unique id: uniq_id_b19\n",
      "Work id: 731283673\n",
      "\n",
      "Gold: [Administration of enema] USES [Butyrates]\n",
      "\n",
      "uses: functionally_related_to\n",
      "\n",
      "       uniq_id   crowd_relation_type  conf_score  num_votes  conf_skew_score  \\\n",
      "1  uniq_id_b19                 other      1.8571          2               -1   \n",
      "0  uniq_id_b19  conceptually_related      1.7171          2                0   \n",
      "2  uniq_id_b19    physically_related      0.8125          1                0   \n",
      "\n",
      "   percent_agree  \n",
      "1       0.423348  \n",
      "0       0.391433  \n",
      "2       0.185219  \n",
      "\n",
      "BACKGROUND AND AIMS: <span class=\"object_text\">Butyrate</span> <span class=\"subject_text\">enema</span>s have been shown to be effective in treatment of ulcerative colitis, but the mechanism of the effects of butyrate is not totally known.\n",
      "---------------------------------------------------------\n",
      "\n",
      "Unique id: uniq_id_b22\n",
      "Work id: 731283676\n",
      "\n",
      "Gold: [Mitochondrial electron transport chain] LOCATION_OF [Reactive Oxygen Species]\n",
      "\n",
      "location_of: spatially_related_to\n",
      "\n",
      "       uniq_id crowd_relation_type  conf_score  num_votes  conf_skew_score  \\\n",
      "0  uniq_id_b22  physically_related      2.3568          3                0   \n",
      "1  uniq_id_b22   spatially_related      0.9333          1                0   \n",
      "\n",
      "   percent_agree  \n",
      "0       0.716331  \n",
      "1       0.283669  \n",
      "\n",
      "The main site for <span class=\"object_text\">ROS</span> production is the <span class=\"subject_text\">respiratory chain</span> inside the mitochondria and accumulation of mtDNA mutations, and impaired respiratory chain function have been associated with degenerative diseases and aging.\n",
      "---------------------------------------------------------\n",
      "\n",
      "Unique id: uniq_id_b23\n",
      "Work id: 731283677\n",
      "\n",
      "Gold: [Respiratory Chain] AFFECTS [Degenerative disorder]\n",
      "\n",
      "affects: functionally_related_to\n",
      "\n",
      "       uniq_id   crowd_relation_type  conf_score  num_votes  conf_skew_score  \\\n",
      "0  uniq_id_b23  conceptually_related      0.9231          1                0   \n",
      "2  uniq_id_b23                 other      0.8750          1                0   \n",
      "3  uniq_id_b23     spatially_related      0.8125          1                0   \n",
      "1  uniq_id_b23  functionally_related      0.7647          1               -1   \n",
      "\n",
      "   percent_agree  \n",
      "0       0.273487  \n",
      "2       0.259236  \n",
      "3       0.240719  \n",
      "1       0.226558  \n",
      "\n",
      "The main site for ROS production is the respiratory chain inside the mitochondria and accumulation of mtDNA mutations, and impaired <span class=\"subject_text\">respiratory chain</span> function have been associated with <span class=\"object_text\">degenerative diseases</span> and aging.\n",
      "---------------------------------------------------------\n",
      "\n",
      "Unique id: uniq_id_b26\n",
      "Work id: 731283680\n",
      "\n",
      "Gold: [Respiratory Chain] PRODUCES [Reactive Oxygen Species]\n",
      "\n",
      "produces: functionally_related_to\n",
      "\n",
      "       uniq_id   crowd_relation_type  conf_score  num_votes  conf_skew_score  \\\n",
      "1  uniq_id_b26     spatially_related      1.8083          2               -1   \n",
      "0  uniq_id_b26  functionally_related      1.6068          2                0   \n",
      "\n",
      "   percent_agree  \n",
      "1       0.529501  \n",
      "0       0.470499  \n",
      "\n",
      "The main site for <span class=\"object_text\">ROS</span> production is the <span class=\"subject_text\">respiratory chain</span> inside the mitochondria and accumulation of mtDNA mutations, and impaired respiratory chain function have been associated with degenerative diseases and aging.\n",
      "---------------------------------------------------------\n",
      "\n",
      "Unique id: uniq_id_b28\n",
      "Work id: 731283682\n",
      "\n",
      "Gold: [Exercise stress test] ADMINISTERED_TO [Patients]\n",
      "\n",
      "administered_to: conceptually_related_to\n",
      "\n",
      "       uniq_id   crowd_relation_type  conf_score  num_votes  conf_skew_score  \\\n",
      "1  uniq_id_b28  functionally_related      2.4731          3               -1   \n",
      "0  uniq_id_b28  conceptually_related      0.8750          1                0   \n",
      "\n",
      "   percent_agree  \n",
      "1       0.738658  \n",
      "0       0.261342  \n",
      "\n",
      "METHODS: After venous blood sampling, subjects (16 CFS <span class=\"object_text\">patients</span>) performed a maximal <span class=\"subject_text\">exercise stress test</span> on a bicycle ergometer with continuous monitoring of cardiorespiratory variables.\n",
      "---------------------------------------------------------\n",
      "\n",
      "Unique id: uniq_id_b29\n",
      "Work id: 731283683\n",
      "\n",
      "Gold: [Exercise stress test] USES [Bicycle ergometer]\n",
      "\n",
      "uses: functionally_related_to\n",
      "\n",
      "       uniq_id   crowd_relation_type  conf_score  num_votes  conf_skew_score  \\\n",
      "0  uniq_id_b29  conceptually_related      2.5628          3                0   \n",
      "1  uniq_id_b29  functionally_related      0.8421          1                1   \n",
      "\n",
      "   percent_agree  \n",
      "0        0.75268  \n",
      "1        0.24732  \n",
      "\n",
      "METHODS: After venous blood sampling, subjects (16 CFS patients) performed a maximal <span class=\"subject_text\">exercise stress test</span> on a <span class=\"object_text\">bicycle ergometer</span> with continuous monitoring of cardiorespiratory variables.\n",
      "---------------------------------------------------------\n",
      "\n",
      "Unique id: uniq_id_b33\n",
      "Work id: 731283687\n",
      "\n",
      "Gold: [Single lesion] PROCESS_OF [Patients]\n",
      "\n",
      "process_of: functionally_related_to\n",
      "\n",
      "       uniq_id   crowd_relation_type  conf_score  num_votes  conf_skew_score  \\\n",
      "2  uniq_id_b33     spatially_related      1.7981          2                0   \n",
      "1  uniq_id_b33    physically_related      0.8125          1                0   \n",
      "0  uniq_id_b33  conceptually_related      0.7647          1               -1   \n",
      "\n",
      "   percent_agree  \n",
      "2       0.532723  \n",
      "1       0.240719  \n",
      "0       0.226558  \n",
      "\n",
      "<span class=\"subject_text\">Patients</span> with <span class=\"object_text\">single brain lesion</span> received an extra 3 Gy x 5 radiotherapy on the limited field of brain lesion within 1 week after WBRT.\n",
      "---------------------------------------------------------\n",
      "\n",
      "Unique id: uniq_id_b55\n",
      "Work id: 731283709\n",
      "\n",
      "Gold: [Centrosome] LOCATION_OF [Antibodies]\n",
      "\n",
      "location_of: spatially_related_to\n",
      "\n",
      "       uniq_id   crowd_relation_type  conf_score  num_votes  conf_skew_score  \\\n",
      "0  uniq_id_b55  conceptually_related      1.7647          2               -1   \n",
      "1  uniq_id_b55  functionally_related      1.6992          2                0   \n",
      "2  uniq_id_b55                 other      0.7500          1               -1   \n",
      "\n",
      "   percent_agree  \n",
      "0       0.418781  \n",
      "1       0.403237  \n",
      "2       0.177982  \n",
      "\n",
      "Positive but weak reactions of the blepharoplast core occur with the <span class=\"subject_text\">centrosome</span>reactive <span class=\"object_text\">antibodies</span> MPM-2 and C-9.\n",
      "---------------------------------------------------------\n",
      "\n",
      "Unique id: uniq_id_b58\n",
      "Work id: 731283712\n",
      "\n",
      "Gold: [Laparotomy] PRECEDES [Surgical Procedures, Laparoscopic]\n",
      "\n",
      "precedes: temporally_related_to\n",
      "\n",
      "       uniq_id   crowd_relation_type  conf_score  num_votes  conf_skew_score  \\\n",
      "0  uniq_id_b58  functionally_related      0.9333          1               -1   \n",
      "2  uniq_id_b58     spatially_related      0.8421          1                1   \n",
      "1  uniq_id_b58    physically_related      0.8125          1                1   \n",
      "\n",
      "   percent_agree  \n",
      "0       0.360640  \n",
      "2       0.325399  \n",
      "1       0.313961  \n",
      "\n",
      "<span class=\"object_text\">Laparoscopic surgery</span> for the management of obstruction of the gastric outlet and small bowel following previous <span class=\"subject_text\">laparotomy</span> for major upper gastrointestinal resection or cancer palliation: a new concept.\n",
      "---------------------------------------------------------\n",
      "\n",
      "Unique id: uniq_id_b61\n",
      "Work id: 731283715\n",
      "\n",
      "Gold: [Laparotomy] METHOD_OF [Excision]\n",
      "\n",
      "method_of: conceptually_related_to\n",
      "\n",
      "       uniq_id   crowd_relation_type  conf_score  num_votes  conf_skew_score  \\\n",
      "1  uniq_id_b61  functionally_related      2.5356          3               -1   \n",
      "0  uniq_id_b61  conceptually_related      0.8125          1                0   \n",
      "\n",
      "   percent_agree  \n",
      "1       0.757325  \n",
      "0       0.242675  \n",
      "\n",
      "Laparoscopic surgery for the management of obstruction of the gastric outlet and small bowel following previous <span class=\"subject_text\">laparotomy</span> for major upper gastrointestinal <span class=\"object_text\">resection</span> or cancer palliation: a new concept.\n",
      "---------------------------------------------------------\n",
      "\n",
      "Unique id: uniq_id_b68\n",
      "Work id: 731283722\n",
      "\n",
      "Gold: [Bypass surgery] ADMINISTERED_TO [Patients]\n",
      "\n",
      "administered_to: conceptually_related_to\n",
      "\n",
      "       uniq_id   crowd_relation_type  conf_score  num_votes  conf_skew_score  \\\n",
      "1  uniq_id_b68  functionally_related      2.5296          3                0   \n",
      "0  uniq_id_b68  conceptually_related      1.8571          2                0   \n",
      "\n",
      "   percent_agree  \n",
      "1       0.576652  \n",
      "0       0.423348  \n",
      "\n",
      "BACKGROUND: Surgical relief of gastric outlet obstruction (GOO) or small bowel obstruction in <span class=\"object_text\">patients</span> who had undergone major resection or palliative <span class=\"subject_text\">bypass surgery</span> for malignancy is conventionally achieved at a laparotomy.\n",
      "---------------------------------------------------------\n",
      "\n",
      "Unique id: uniq_id_b69\n",
      "Work id: 731283723\n",
      "\n",
      "Gold: [Excision] ADMINISTERED_TO [Patients]\n",
      "\n",
      "administered_to: conceptually_related_to\n",
      "\n",
      "       uniq_id   crowd_relation_type  conf_score  num_votes  conf_skew_score  \\\n",
      "1  uniq_id_b69  functionally_related      3.5296          4                0   \n",
      "0  uniq_id_b69  conceptually_related      0.8571          1                0   \n",
      "\n",
      "   percent_agree  \n",
      "1       0.804614  \n",
      "0       0.195386  \n",
      "\n",
      "BACKGROUND: Surgical relief of gastric outlet obstruction (GOO) or small bowel obstruction in <span class=\"object_text\">patients</span> who had undergone major <span class=\"subject_text\">resection</span> or palliative bypass surgery for malignancy is conventionally achieved at a laparotomy.\n",
      "---------------------------------------------------------\n",
      "\n",
      "Unique id: uniq_id_b7\n",
      "Work id: 731283661\n",
      "\n",
      "Gold: [Symptoms] MANIFESTATION_OF [Hypercalcemia]\n",
      "\n",
      "manifestation_of: functionally_related_to\n",
      "\n",
      "      uniq_id   crowd_relation_type  conf_score  num_votes  conf_skew_score  \\\n",
      "0  uniq_id_b7  conceptually_related      2.6875          3               -1   \n",
      "1  uniq_id_b7                 other      0.8571          1                0   \n",
      "\n",
      "   percent_agree  \n",
      "0       0.758196  \n",
      "1       0.241804  \n",
      "\n",
      "The mean tumor size was 2.18 cm, smaller than the proposed for malignant criteria, and none of the eight patients (0%) had any <span class=\"subject_text\">symptoms</span> of <span class=\"object_text\">hypercalcemia</span> at the time of diagnosis.\n",
      "---------------------------------------------------------\n",
      "\n",
      "Unique id: uniq_id_b86\n",
      "Work id: 731283740\n",
      "\n",
      "Gold: [tumor necrosis factor receptor 1A] INTERACTS_WITH [FAS gene]\n",
      "\n",
      "interacts_with: functionally_related_to\n",
      "\n",
      "       uniq_id   crowd_relation_type  conf_score  num_votes  conf_skew_score  \\\n",
      "0  uniq_id_b86  conceptually_related      2.4148          3               -1   \n",
      "1  uniq_id_b86    physically_related      0.9333          1               -1   \n",
      "\n",
      "   percent_agree  \n",
      "0       0.721245  \n",
      "1       0.278755  \n",
      "\n",
      "<span class=\"subject_text\">TNFR1</span>/<span class=\"object_text\">Fas</span> engagement results in the cleavage of cytosolic Bid to truncated Bid (tBid), which translocates to mitochondria.\n",
      "---------------------------------------------------------\n",
      "\n",
      "Unique id: uniq_id_b97\n",
      "Work id: 731283751\n",
      "\n",
      "Gold: [Sequence Analysis] DIAGNOSES [Missense Mutation Abnormality]\n",
      "\n",
      "diagnoses: conceptually_related_to\n",
      "\n",
      "       uniq_id   crowd_relation_type  conf_score  num_votes  conf_skew_score  \\\n",
      "0  uniq_id_b97  functionally_related      3.2901          4                0   \n",
      "\n",
      "   percent_agree  \n",
      "0              1  \n",
      "\n",
      "<span class=\"subject_text\">Sequence analysis</span> of the ADAMTS13 locus of 2 patients with hereditary thrombotic thrombocytopenic purpura (TTP) revealed the homozygous presence of 4 single nucleotide polymorphisms (SNPs) (R7W, Q448E, P618A, A732V) and a <span class=\"object_text\">rare missense mutation (R1336W)</span>.\n",
      "---------------------------------------------------------\n",
      "\n"
     ]
    }
   ],
   "source": [
    "summary(mismatches)"
   ]
  },
  {
   "cell_type": "markdown",
   "metadata": {},
   "source": [
    "## After looking through the wrong answers, I concluded the following:"
   ]
  },
  {
   "cell_type": "markdown",
   "metadata": {},
   "source": [
    "1. There were 2 work units which had special circumstances: b33 and b12. For b33, the gold standard was reversed, and the crowd choice under the reverse circumstances are correct. For b12, I would disagree with the gold standard and say that \"palpable masses\" are physical objects, and therefore the crowd answer of \"palpable masses part of patients\" is more representative of what the sentence is saying.\n",
    "\n",
    "2. Next, I think the crowd got the following questions correct, despite not matching the gold standard: b97, b86, b7, b33, b29, b26, b19, b12. Some of these mismatches were due to the fact that I did not provide all the possible predicates to the crowd, and they therefore made the best interpretation they could. These discrepancies should disappear with further task iterations.\n",
    "\n",
    "3. Finally, the ones the crowd did get wrong: b69, b68, b61, b58, b55, b28, b22, b23, b0. For these, the crowd didn't seem to understand what the sentence was saying, and therefore chose the wrong answers."
   ]
  },
  {
   "cell_type": "markdown",
   "metadata": {},
   "source": [
    "For work unit Unique id: uniq_id_b33 Work id: 731283687, the crowd identified the answer as \"location of\", which does not match the gold standard. However, if we look at the original xml file for the gold standard, we see that the text for the subject is \"patients\", whereas the preferredname for the subject is \"single lesion\". Therefore, the subject and object were flipped in the original data. Thus the crowd was not wrong; the data was bad."
   ]
  },
  {
   "cell_type": "markdown",
   "metadata": {},
   "source": [
    "### Randomly sample the ones which matched the gold standard:"
   ]
  },
  {
   "cell_type": "code",
   "execution_count": 30,
   "metadata": {
    "collapsed": false,
    "scrolled": true
   },
   "outputs": [
    {
     "name": "stdout",
     "output_type": "stream",
     "text": [
      "Unique id: uniq_id_b24\n",
      "Work id: 731283678\n",
      "\n",
      "Gold: [Respiratory Chain] AFFECTS [Aging]\n",
      "\n",
      "affects: functionally_related_to\n",
      "\n",
      "       uniq_id   crowd_relation_type  conf_score  num_votes  conf_skew_score  \\\n",
      "1  uniq_id_b24  functionally_related      1.6980          2               -1   \n",
      "2  uniq_id_b24                 other      0.8750          1                0   \n",
      "0  uniq_id_b24  conceptually_related      0.8421          1                1   \n",
      "\n",
      "   percent_agree  \n",
      "1       0.497204  \n",
      "2       0.256215  \n",
      "0       0.246581  \n",
      "\n",
      "The main site for ROS production is the respiratory chain inside the mitochondria and accumulation of mtDNA mutations, and impaired <span class=\"subject_text\">respiratory chain</span> function have been associated with degenerative diseases and <span class=\"object_text\">aging</span>.\n",
      "---------------------------------------------------------\n",
      "\n",
      "Unique id: uniq_id_b63\n",
      "Work id: 731283717\n",
      "\n",
      "Gold: [Operative Surgical Procedures] TREATS [Small bowel obstruction NOS]\n",
      "\n",
      "treats: functionally_related_to\n",
      "\n",
      "       uniq_id   crowd_relation_type  conf_score  num_votes  conf_skew_score  \\\n",
      "0  uniq_id_b63  functionally_related      2.5254          3                0   \n",
      "1  uniq_id_b63    physically_related      0.7647          1               -1   \n",
      "\n",
      "   percent_agree  \n",
      "0       0.767575  \n",
      "1       0.232425  \n",
      "\n",
      "BACKGROUND: <span class=\"subject_text\">Surgical</span> relief of gastric outlet obstruction (GOO) or <span class=\"object_text\">small bowel obstruction</span> in patients who had undergone major resection or palliative bypass surgery for malignancy is conventionally achieved at a laparotomy.\n",
      "---------------------------------------------------------\n",
      "\n",
      "Unique id: uniq_id_b75\n",
      "Work id: 731283729\n",
      "\n",
      "Gold: [Interleukin-1 beta] ISA [cytokine]\n",
      "\n",
      "isa: conceptually_related_to\n",
      "\n",
      "       uniq_id   crowd_relation_type  conf_score  num_votes  conf_skew_score  \\\n",
      "0  uniq_id_b75  conceptually_related      1.7981          2                0   \n",
      "1  uniq_id_b75    physically_related      1.5772          2               -1   \n",
      "\n",
      "   percent_agree  \n",
      "0       0.532723  \n",
      "1       0.467277  \n",
      "\n",
      "Reactive oxygen species formation and release of pro-inflammatory/pro-atherogenic <span class=\"object_text\">cytokines</span>, that is, <span class=\"subject_text\">interleukin 1-beta</span> and tumor necrosis factor-alpha, need the activation of the arachidonic acid cascade via the enzyme 5-lipoxygenase (5-Lox).\n",
      "---------------------------------------------------------\n",
      "\n",
      "Unique id: uniq_id_b5\n",
      "Work id: 731283659\n",
      "\n",
      "Gold: [Breast] LOCATION_OF [Parasitic infection]\n",
      "\n",
      "location_of: spatially_related_to\n",
      "\n",
      "      uniq_id   crowd_relation_type  conf_score  num_votes  conf_skew_score  \\\n",
      "1  uniq_id_b5     spatially_related      2.6402          3                1   \n",
      "0  uniq_id_b5  functionally_related      0.7647          1               -1   \n",
      "\n",
      "   percent_agree  \n",
      "1       0.775412  \n",
      "0       0.224588  \n",
      "\n",
      "Fasciolosis is an uncommon disease in this region, as are <span class=\"object_text\">parasitic infections</span> of the <span class=\"subject_text\">breast</span>.\n",
      "---------------------------------------------------------\n",
      "\n",
      "Unique id: uniq_id_b35\n",
      "Work id: 731283689\n",
      "\n",
      "Gold: [Brain] LOCATION_OF [Lesion]\n",
      "\n",
      "location_of: spatially_related_to\n",
      "\n",
      "       uniq_id   crowd_relation_type  conf_score  num_votes  conf_skew_score  \\\n",
      "2  uniq_id_b35     spatially_related      1.8083          2                0   \n",
      "0  uniq_id_b35  conceptually_related      0.8421          1                0   \n",
      "1  uniq_id_b35    physically_related      0.7647          1               -1   \n",
      "\n",
      "   percent_agree  \n",
      "2       0.529501  \n",
      "0       0.246581  \n",
      "1       0.223917  \n",
      "\n",
      "Patients with single brain lesion received an extra 3 Gy x 5 radiotherapy on the limited field of <span class=\"subject_text\">brain</span> <span class=\"object_text\">lesion</span> within 1 week after WBRT.\n",
      "---------------------------------------------------------\n",
      "\n",
      "Unique id: uniq_id_b21\n",
      "Work id: 731283675\n",
      "\n",
      "Gold: [Mitochondria] LOCATION_OF [Mitochondrial electron transport chain]\n",
      "\n",
      "location_of: spatially_related_to\n",
      "\n",
      "       uniq_id crowd_relation_type  conf_score  num_votes  conf_skew_score  \\\n",
      "1  uniq_id_b21   spatially_related      2.5401          3                0   \n",
      "0  uniq_id_b21  physically_related      0.7500          1                0   \n",
      "\n",
      "   percent_agree  \n",
      "1       0.772043  \n",
      "0       0.227957  \n",
      "\n",
      "The main site for ROS production is the <span class=\"object_text\">respiratory chain</span> inside the <span class=\"subject_text\">mitochondria</span> and accumulation of mtDNA mutations, and impaired respiratory chain function have been associated with degenerative diseases and aging.\n",
      "---------------------------------------------------------\n",
      "\n",
      "Unique id: uniq_id_b60\n",
      "Work id: 731283714\n",
      "\n",
      "Gold: [Upper digestive tract structure] LOCATION_OF [Excision]\n",
      "\n",
      "location_of: spatially_related_to\n",
      "\n",
      "       uniq_id   crowd_relation_type  conf_score  num_votes  conf_skew_score  \\\n",
      "2  uniq_id_b60     spatially_related      2.6875          3                0   \n",
      "1  uniq_id_b60                 other      0.8571          1                1   \n",
      "0  uniq_id_b60  conceptually_related      0.8421          1                1   \n",
      "\n",
      "   percent_agree  \n",
      "2       0.612647  \n",
      "1       0.195386  \n",
      "0       0.191967  \n",
      "\n",
      "Laparoscopic surgery for the management of obstruction of the gastric outlet and small bowel following previous laparotomy for major <span class=\"subject_text\">upper gastrointestinal</span> <span class=\"object_text\">resection</span> or cancer palliation: a new concept.\n",
      "---------------------------------------------------------\n",
      "\n",
      "Unique id: uniq_id_b25\n",
      "Work id: 731283679\n",
      "\n",
      "Gold: [Mitochondria] LOCATION_OF [Respiratory Chain]\n",
      "\n",
      "location_of: spatially_related_to\n",
      "\n",
      "       uniq_id crowd_relation_type  conf_score  num_votes  conf_skew_score  \\\n",
      "1  uniq_id_b25   spatially_related      2.5628          3                0   \n",
      "0  uniq_id_b25  physically_related      0.8125          1                0   \n",
      "\n",
      "   percent_agree  \n",
      "1       0.759281  \n",
      "0       0.240719  \n",
      "\n",
      "The main site for ROS production is the <span class=\"object_text\">respiratory chain</span> inside the <span class=\"subject_text\">mitochondria</span> and accumulation of mtDNA mutations, and impaired respiratory chain function have been associated with degenerative diseases and aging.\n",
      "---------------------------------------------------------\n",
      "\n",
      "Unique id: uniq_id_b77\n",
      "Work id: 731283731\n",
      "\n",
      "Gold: [Arachidonate 5-Lipoxygenase] ISA [Enzymes]\n",
      "\n",
      "isa: conceptually_related_to\n",
      "\n",
      "       uniq_id   crowd_relation_type  conf_score  num_votes  conf_skew_score  \\\n",
      "0  uniq_id_b77  conceptually_related      1.7754          2                0   \n",
      "1  uniq_id_b77  functionally_related      0.8125          1                0   \n",
      "\n",
      "   percent_agree  \n",
      "0       0.686039  \n",
      "1       0.313961  \n",
      "\n",
      "Reactive oxygen species formation and release of pro-inflammatory/pro-atherogenic cytokines, that is, interleukin 1-beta and tumor necrosis factor-alpha, need the activation of the arachidonic acid cascade via the <span class=\"object_text\">enzyme</span> <span class=\"subject_text\">5-lipoxygenase</span> (5-Lox).\n",
      "---------------------------------------------------------\n",
      "\n",
      "Unique id: uniq_id_b32\n",
      "Work id: 731283686\n",
      "\n",
      "Gold: [Brain] LOCATION_OF [Single lesion]\n",
      "\n",
      "location_of: spatially_related_to\n",
      "\n",
      "       uniq_id   crowd_relation_type  conf_score  num_votes  conf_skew_score  \\\n",
      "2  uniq_id_b32     spatially_related      1.8083          2                0   \n",
      "0  uniq_id_b32  conceptually_related      0.8421          1                1   \n",
      "1  uniq_id_b32    physically_related      0.7647          1               -1   \n",
      "\n",
      "   percent_agree  \n",
      "2       0.529501  \n",
      "0       0.246581  \n",
      "1       0.223917  \n",
      "\n",
      "Patients with <span class=\"object_text\">single brain lesion</span><span class=\"subject_text\">brain</span> lesion received an extra 3 Gy x 5 radiotherapy on the limited field of brain lesion within 1 week after WBRT.\n",
      "---------------------------------------------------------\n",
      "\n"
     ]
    }
   ],
   "source": [
    "summary(random.sample(matches, 10))"
   ]
  },
  {
   "cell_type": "markdown",
   "metadata": {},
   "source": [
    "# Note to self: there is a mistake in sentence presentation for uniq_id_b32. This arises because the subject and object overlap in the sentence, which I forgot to check for."
   ]
  },
  {
   "cell_type": "markdown",
   "metadata": {},
   "source": [
    "So, the small sample of the crowd's responses looks good. Overall, the recall was 91%, since the crowd matched the gold standard 83% of the time, and another 8% of the time they did not match, but performed properly according to the task they were given. Thus, it seems the crowd is relatively good at determining the semantic relationship.\n",
    "\n",
    "One huge caveat is that the relationships given in the gold standard are mostly location of/isa relationships. Location of, process of, and part of make up 43% of the work units we showed to our crowd. Since these are relatively easy semantic relationships to determine, we should see how the crowd does on the hard relationships before we celebrate."
   ]
  },
  {
   "cell_type": "markdown",
   "metadata": {},
   "source": [
    "## Also, what was the distribution of the answers like? How well would the crowd have done if they just chose one answer all the time?"
   ]
  },
  {
   "cell_type": "code",
   "execution_count": 31,
   "metadata": {
    "collapsed": false
   },
   "outputs": [
    {
     "name": "stdout",
     "output_type": "stream",
     "text": [
      "functionally_related 56\n",
      "spatially_related 17\n",
      "conceptually_related 13\n",
      "physically_related 12\n",
      "temporally_related 1\n",
      "other 1\n"
     ]
    }
   ],
   "source": [
    "temp = []\n",
    "for uniq_id, group in res.groupby(\"uniq_id\"):\n",
    "    temp.append(group.iloc[0][\"crowd_relation_type\"])\n",
    "    \n",
    "for k, n in Counter(temp).most_common():\n",
    "    print k, n"
   ]
  },
  {
   "cell_type": "code",
   "execution_count": 32,
   "metadata": {
    "collapsed": false
   },
   "outputs": [
    {
     "data": {
      "text/plain": [
       "100"
      ]
     },
     "execution_count": 32,
     "metadata": {},
     "output_type": "execute_result"
    }
   ],
   "source": [
    "len(res[\"uniq_id\"].unique())"
   ]
  },
  {
   "cell_type": "markdown",
   "metadata": {},
   "source": [
    "The crowd would get 56% agreement if they just chose \"functional relationship\" for each question. The crowd's distribution of top answers matches the distribution of the entire gold standard almost exactly."
   ]
  },
  {
   "cell_type": "markdown",
   "metadata": {},
   "source": [
    "### Here is the distribution of gold standard predicates for the sentences the crowd saw:"
   ]
  },
  {
   "cell_type": "code",
   "execution_count": 33,
   "metadata": {
    "collapsed": true
   },
   "outputs": [],
   "source": [
    "temp = []\n",
    "for val, group in raw_data.groupby(\"uniq_id\"):\n",
    "    temp.append(group.iloc[0][\"predicate\"])"
   ]
  },
  {
   "cell_type": "code",
   "execution_count": 34,
   "metadata": {
    "collapsed": false
   },
   "outputs": [
    {
     "name": "stdout",
     "output_type": "stream",
     "text": [
      "TREATS 21\n",
      "LOCATION_OF 17\n",
      "PROCESS_OF 16\n",
      "PART_OF 10\n",
      "AFFECTS 8\n",
      "ADMINISTERED_TO 5\n",
      "INTERACTS_WITH 4\n",
      "ISA 4\n",
      "COEXISTS_WITH 3\n",
      "USES 2\n",
      "PRECEDES 2\n",
      "METHOD_OF 1\n",
      "NEG_PROCESS_OF 1\n",
      "PRODUCES 1\n",
      "MANIFESTATION_OF 1\n",
      "NEG_DISRUPTS 1\n",
      "AUGMENTS 1\n",
      "DIAGNOSES 1\n",
      "STIMULATES 1\n"
     ]
    }
   ],
   "source": [
    "for v, n in Counter(temp).most_common():\n",
    "    print v, n"
   ]
  }
 ],
 "metadata": {
  "kernelspec": {
   "display_name": "Python 2",
   "language": "python",
   "name": "python2"
  },
  "language_info": {
   "codemirror_mode": {
    "name": "ipython",
    "version": 2
   },
   "file_extension": ".py",
   "mimetype": "text/x-python",
   "name": "python",
   "nbconvert_exporter": "python",
   "pygments_lexer": "ipython2",
   "version": "2.7.9"
  }
 },
 "nbformat": 4,
 "nbformat_minor": 0
}
